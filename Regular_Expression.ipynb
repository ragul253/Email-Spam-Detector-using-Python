{
  "cells": [
    {
      "cell_type": "markdown",
      "metadata": {
        "id": "view-in-github",
        "colab_type": "text"
      },
      "source": [
        "<a href=\"https://colab.research.google.com/github/ragul253/Email-Spam-Detector-using-Python/blob/main/Regular_Expression.ipynb\" target=\"_parent\"><img src=\"https://colab.research.google.com/assets/colab-badge.svg\" alt=\"Open In Colab\"/></a>"
      ]
    },
    {
      "cell_type": "markdown",
      "id": "116f2d6b",
      "metadata": {
        "id": "116f2d6b"
      },
      "source": [
        "# Understanding Regex\n",
        "\n",
        "As you're a software developer, you have probably encountered regular expressions many times and got consufed many times with these daunting set of characters grouped together like this:\n",
        "\n",
        "<img src=\".\\Images\\12.png\">\n",
        "\n",
        "And you may wondered what this is all about?\n",
        "\n",
        "Regular Expressions(Regx or RegExp) are too useful in stepping up your algorithm game and this will make you a better problem solver. The structure of Regx can be intimidating at first, but it is very rewarding once you got all the patterns and implement them in your work properly.\n",
        "\n",
        "\n",
        "## What is RegEx and why is it important?\n",
        "\n",
        "A Regex or we called it as regular expression, it is a type of object will help you out to extract information from any string data by searching through text and find it out what you need.Whether it's punctuation, numbers, letters, or even white spaces, RegEx will allow you to check and match any of the character combination in strings.\n",
        "\n",
        "For example, suppose you need to match the format of a email addresses or security numbers. You can utilize RegEx to check the pattern inside the text strings and use it to replace another substring.\n",
        "\n",
        "For instance, a RegEx could tell the program to search for the specific text from the string and then to print out the output accordingly. Expressions can include Text matching, Repetition of words,Branching,pattern-composition.\n",
        "\n",
        "\n",
        "\n",
        "### RegEx Syntax\n",
        "\n",
        "    import re\n",
        "\n",
        "- *re* library in Python is used for string searching and manipulation.\n",
        "- We also used it frequently for web scraping.\n",
        "\n",
        "#### Example for w+ and ^ Expression\n",
        "\n",
        "- *^:* Here in this expression matches the start of a string.\n",
        "- *w+:* This expression matches for the alphanumeric characters from inside the string.\n",
        "\n",
        "Here, we will give one example of how you can use \"w+\" and \"^\" expressions in code. re.findall will cover in next parts,so just focus on the \"w+\" and \"^\" expression.\n",
        "\n",
        "Let's have an example \"Shivam23, Data Science Teaching Consultant\", if we execute the code we will get \"Shivam23\" as a result."
      ]
    },
    {
      "cell_type": "markdown",
      "id": "3d410800",
      "metadata": {
        "id": "3d410800"
      },
      "source": [
        "## Use RegEx methods\n",
        "\n",
        "The \"re\" packages provide several methods to actually perform queries on an input string. We will see different methods which are\n",
        "\n",
        "    re.match()\n",
        "    re.search()\n",
        "    re.findall()\n",
        "    \n",
        "**Note:** Based on the RegEx, Python offers two different primitive operations. This match method checks for the match only at the begining of the string while search checks for a match anywhere in the string.\n"
      ]
    },
    {
      "cell_type": "markdown",
      "id": "aabe3e1a",
      "metadata": {
        "id": "aabe3e1a"
      },
      "source": [
        "### Character sets\n",
        "| Pattern  | Matches                                                                                    |\n",
        "|----------|--------------------------------------------------------------------------------------------|\n",
        "| [abc]    | Matches either an a, b or c character                                                      |\n",
        "| [abcABC] | Matches either an a, A, b, B, c or C character                                             |\n",
        "| [a-z]    | Matches any characters between a and z, including a and z                                  |\n",
        "| [A-Z]    | Matches any characters between A and Z, including A and Z                                  |\n",
        "| [a-zA-Z] | Matches any characters between a and z, including a and z ignoring cases of the characters |\n",
        "| [0-9]    | Matches any character which is a number between 0 and 9                                    |"
      ]
    },
    {
      "cell_type": "markdown",
      "id": "312393ec",
      "metadata": {
        "id": "312393ec"
      },
      "source": [
        "### Meta sequences\n",
        "\n",
        "| Pattern  | Equivalent to    |\n",
        "|----------|------------------|\n",
        "| \\s       | [ \\t\\n\\r\\f\\v]    |\n",
        "| \\S       | [^ \\t\\n\\r\\f\\v]   |\n",
        "| \\d       | [0-9]            |\n",
        "| \\D       | [^0-9]           |\n",
        "| \\w       | [a-zA-Z0-9_]     |\n",
        "| \\W       | [^a-zA-Z0-9_]    |"
      ]
    },
    {
      "cell_type": "markdown",
      "id": "33ce8c7b",
      "metadata": {
        "id": "33ce8c7b"
      },
      "source": [
        "#### 1. re.match(pattern, string)\n",
        "*The re.match function returns a match object on success and none on failure.*"
      ]
    },
    {
      "cell_type": "code",
      "execution_count": null,
      "id": "fce71497",
      "metadata": {
        "id": "fce71497"
      },
      "outputs": [],
      "source": [
        "import re"
      ]
    },
    {
      "cell_type": "code",
      "execution_count": null,
      "id": "81e357fc",
      "metadata": {
        "id": "81e357fc",
        "outputId": "60a1a121-781c-4cd2-b18e-599535d5503c"
      },
      "outputs": [
        {
          "name": "stdout",
          "output_type": "stream",
          "text": [
            "<re.Match object; span=(0, 2), match='We'>\n"
          ]
        }
      ],
      "source": [
        "# match a word at the beginning of a string\n",
        "\n",
        "result = re.match('We', 'We will learn Regular Expression today.')\n",
        "print(result)"
      ]
    },
    {
      "cell_type": "code",
      "execution_count": null,
      "id": "a1efe808",
      "metadata": {
        "id": "a1efe808",
        "outputId": "a2ae7127-a0d9-4222-cb3f-9f1b7468d01a"
      },
      "outputs": [
        {
          "name": "stdout",
          "output_type": "stream",
          "text": [
            "We\n"
          ]
        }
      ],
      "source": [
        "print(result.group())"
      ]
    },
    {
      "cell_type": "code",
      "execution_count": null,
      "id": "4e26021b",
      "metadata": {
        "id": "4e26021b",
        "outputId": "cef76e6e-2ac5-4b02-d930-0fe3e8918aa7"
      },
      "outputs": [
        {
          "name": "stdout",
          "output_type": "stream",
          "text": [
            "None\n"
          ]
        }
      ],
      "source": [
        "result_2 = re.match('largest','We will learn Regular Expression today.')\n",
        "print(result_2)"
      ]
    },
    {
      "cell_type": "markdown",
      "id": "a37930f7",
      "metadata": {
        "id": "a37930f7"
      },
      "source": [
        "#### 2. re.search(pattern, string)\n",
        "*Matches the first occurrence of a pattern in the entire string(and not just at the beginning).*"
      ]
    },
    {
      "cell_type": "code",
      "execution_count": null,
      "id": "1888c755",
      "metadata": {
        "id": "1888c755",
        "outputId": "28b2a642-195b-44a2-ff49-c14c480b595d"
      },
      "outputs": [
        {
          "name": "stdout",
          "output_type": "stream",
          "text": [
            "<re.Match object; span=(10, 17), match='founded'>\n"
          ]
        }
      ],
      "source": [
        "# search for the pattern \"founded\" in a given string\n",
        "\n",
        "result = re.search('founded',r'Andrew NG founded Coursera. He also founded deeplearning.ai')\n",
        "print(result)"
      ]
    },
    {
      "cell_type": "code",
      "execution_count": null,
      "id": "91556bcb",
      "metadata": {
        "id": "91556bcb",
        "outputId": "311cab69-efbb-46a2-fb02-6a9386cad9f8"
      },
      "outputs": [
        {
          "name": "stdout",
          "output_type": "stream",
          "text": [
            "founded\n"
          ]
        }
      ],
      "source": [
        "print(result.group())"
      ]
    },
    {
      "cell_type": "markdown",
      "id": "7cd651b5",
      "metadata": {
        "id": "7cd651b5"
      },
      "source": [
        "#### 3. re.findall(pattern, string)\n",
        "*It will return all the occurrences of the pattern from the string. I would recommend you to use re.findall() always, it can work like both re.search() and re.match().*"
      ]
    },
    {
      "cell_type": "code",
      "execution_count": null,
      "id": "83e76dc2",
      "metadata": {
        "id": "83e76dc2",
        "outputId": "3e84ad29-3d7f-4678-df64-73ebf203f16e"
      },
      "outputs": [
        {
          "name": "stdout",
          "output_type": "stream",
          "text": [
            "['founded', 'founded']\n"
          ]
        }
      ],
      "source": [
        "result = re.findall('founded',r'Andrew NG founded Coursera. He also founded deeplearning.ai')\n",
        "print(result)"
      ]
    },
    {
      "cell_type": "markdown",
      "id": "80cf3cc9",
      "metadata": {
        "id": "80cf3cc9"
      },
      "source": [
        "#### 4. sub method\n",
        "*This function is used to replace all the occurrences of the RE pattern with the new string/pattern.*"
      ]
    },
    {
      "cell_type": "code",
      "execution_count": null,
      "id": "fd7cc017",
      "metadata": {
        "id": "fd7cc017"
      },
      "outputs": [],
      "source": [
        "input_str = \"Hey, Are you excited??, After a 7 days, we 56 will be in Shimla!!!\""
      ]
    },
    {
      "cell_type": "code",
      "execution_count": null,
      "id": "0d27fc8c",
      "metadata": {
        "id": "0d27fc8c",
        "outputId": "fbebd04b-5ef7-48e6-defa-83b13efd803f"
      },
      "outputs": [
        {
          "data": {
            "text/plain": [
              "'Hey Are you excited After a 7 days we 56 will be in Shimla '"
            ]
          },
          "execution_count": 81,
          "metadata": {},
          "output_type": "execute_result"
        }
      ],
      "source": [
        "re.sub('\\W+', ' ', input_str)"
      ]
    },
    {
      "cell_type": "markdown",
      "id": "d53a31b3",
      "metadata": {
        "id": "d53a31b3"
      },
      "source": [
        "### Special Sequences in Regular Expressions\n",
        "#### 1. \\b\n",
        "*\\b returns a match where the specified pattern is at the beginning or at the end of a word.*"
      ]
    },
    {
      "cell_type": "code",
      "execution_count": null,
      "id": "5ab3e529",
      "metadata": {
        "id": "5ab3e529"
      },
      "outputs": [],
      "source": [
        "st = 'LetsUpgrad is the largest and smartest Ed-tech platform in India'"
      ]
    },
    {
      "cell_type": "code",
      "execution_count": null,
      "id": "0b0dc6a6",
      "metadata": {
        "id": "0b0dc6a6",
        "outputId": "fc2b6062-1254-4618-d4de-0af3ab57d42b"
      },
      "outputs": [
        {
          "name": "stdout",
          "output_type": "stream",
          "text": [
            "['lar']\n"
          ]
        }
      ],
      "source": [
        "x = re.findall(r'\\blar', st)\n",
        "print(x)"
      ]
    },
    {
      "cell_type": "code",
      "execution_count": null,
      "id": "b6e906d6",
      "metadata": {
        "id": "b6e906d6",
        "outputId": "3c344ead-1226-4bb6-c341-0c98fe3ed0a3"
      },
      "outputs": [
        {
          "name": "stdout",
          "output_type": "stream",
          "text": [
            "['largest', 'smartest']\n"
          ]
        }
      ],
      "source": [
        "x = re.findall(r'\\b\\w+est\\b', st)\n",
        "print(x)"
      ]
    },
    {
      "cell_type": "markdown",
      "id": "b318733d",
      "metadata": {
        "id": "b318733d"
      },
      "source": [
        "#### 2. \\d\n",
        "\\d returns a match where the string contains digits (numbers from 0-9)."
      ]
    },
    {
      "cell_type": "code",
      "execution_count": null,
      "id": "f1442f03",
      "metadata": {
        "id": "f1442f03"
      },
      "outputs": [],
      "source": [
        "s1 = '1 million monthly visit in Jan 24 and the code is 6789'"
      ]
    },
    {
      "cell_type": "code",
      "execution_count": null,
      "id": "d565b9a0",
      "metadata": {
        "id": "d565b9a0",
        "outputId": "f94120b7-e92b-4f14-ee2d-0975a1816c52"
      },
      "outputs": [
        {
          "name": "stdout",
          "output_type": "stream",
          "text": [
            "['1', '2', '4', '6', '7', '8', '9']\n"
          ]
        }
      ],
      "source": [
        "x = re.findall(\"\\d\", s1)\n",
        "print(x)"
      ]
    },
    {
      "cell_type": "code",
      "execution_count": null,
      "id": "578c18e9",
      "metadata": {
        "id": "578c18e9",
        "outputId": "a7947efc-3369-4eb4-fe3c-b15dbac2dc57"
      },
      "outputs": [
        {
          "name": "stdout",
          "output_type": "stream",
          "text": [
            "['1', '24', '6789']\n"
          ]
        }
      ],
      "source": [
        "x = re.findall(\"\\d+\", s1)\n",
        "print(x)"
      ]
    },
    {
      "cell_type": "markdown",
      "id": "217bb2a6",
      "metadata": {
        "id": "217bb2a6"
      },
      "source": [
        "#### 3. \\D\n",
        "\\D returns a match where the string does not contain any digit. It is basically the opposite of \\d."
      ]
    },
    {
      "cell_type": "code",
      "execution_count": null,
      "id": "f1c2771e",
      "metadata": {
        "id": "f1c2771e"
      },
      "outputs": [],
      "source": [
        "s1 = '1 million monthly visit in Jan 24 and the code is 6789'"
      ]
    },
    {
      "cell_type": "code",
      "execution_count": null,
      "id": "bf77915d",
      "metadata": {
        "id": "bf77915d",
        "outputId": "4ed643fb-d0bc-4903-f709-14da50d77e06"
      },
      "outputs": [
        {
          "name": "stdout",
          "output_type": "stream",
          "text": [
            "[' million monthly visit in Jan ', ' and the code is ']\n"
          ]
        }
      ],
      "source": [
        "x = re.findall(\"\\D+\", s1)\n",
        "print(x)"
      ]
    },
    {
      "cell_type": "markdown",
      "id": "e8ad2ef4",
      "metadata": {
        "id": "e8ad2ef4"
      },
      "source": [
        "#### 4. \\w\n",
        "\\w helps in extraction of alphanumeric characters only (characters from a to Z, digits from 0-9, and the underscore _ character)"
      ]
    },
    {
      "cell_type": "code",
      "execution_count": null,
      "id": "5ccab552",
      "metadata": {
        "id": "5ccab552"
      },
      "outputs": [],
      "source": [
        "s2 = 'Shivam is a Data Science @Consultant at ? LetsUpgrad #development and he working over there since 2022!!'"
      ]
    },
    {
      "cell_type": "code",
      "execution_count": null,
      "id": "8d7b1652",
      "metadata": {
        "id": "8d7b1652",
        "outputId": "2a8beb6f-ad2d-4564-e10f-d0d23cbac13b"
      },
      "outputs": [
        {
          "name": "stdout",
          "output_type": "stream",
          "text": [
            "['Shivam', 'is', 'a', 'Data', 'Science', 'Consultant', 'at', 'LetsUpgrad', 'development', 'and', 'he', 'working', 'over', 'there', 'since', '2022']\n"
          ]
        }
      ],
      "source": [
        "x = re.findall('\\w+', s2)\n",
        "print(x)"
      ]
    },
    {
      "cell_type": "markdown",
      "id": "4fefd2cb",
      "metadata": {
        "id": "4fefd2cb"
      },
      "source": [
        "#### 5. \\W\n",
        "\\W returns match at every non-alphanumeric character. Basically opposite of \\w."
      ]
    },
    {
      "cell_type": "code",
      "execution_count": null,
      "id": "fd4421bb",
      "metadata": {
        "id": "fd4421bb"
      },
      "outputs": [],
      "source": [
        "s2 = 'Shivam is a Data Science @Consultant at ? Upgrad #development and he working over there since 2022!!'"
      ]
    },
    {
      "cell_type": "code",
      "execution_count": null,
      "id": "03ff398d",
      "metadata": {
        "id": "03ff398d",
        "outputId": "3f9915fc-fabf-4c71-f714-f5ab802cdf59"
      },
      "outputs": [
        {
          "name": "stdout",
          "output_type": "stream",
          "text": [
            "[' ', ' ', ' ', ' ', ' @', ' ', ' ? ', ' #', ' ', ' ', ' ', ' ', ' ', ' ', ' ', '!!']\n"
          ]
        }
      ],
      "source": [
        "x = re.findall('\\W+', s2)\n",
        "print(x)"
      ]
    },
    {
      "cell_type": "code",
      "execution_count": null,
      "id": "cccddf72",
      "metadata": {
        "id": "cccddf72"
      },
      "outputs": [],
      "source": []
    },
    {
      "cell_type": "markdown",
      "id": "9149c964",
      "metadata": {
        "id": "9149c964"
      },
      "source": [
        "### Metacharacters in Regular Expression\n",
        "\n",
        "Metacharacters are characters with a special meaning.\n",
        "\n",
        "#### 1- (.) matches any character (except newline character)"
      ]
    },
    {
      "cell_type": "code",
      "execution_count": null,
      "id": "f23a295b",
      "metadata": {
        "id": "f23a295b"
      },
      "outputs": [],
      "source": [
        "s1 = \"shivam and shivani recently published a research paper.\""
      ]
    },
    {
      "cell_type": "code",
      "execution_count": null,
      "id": "35e19d66",
      "metadata": {
        "id": "35e19d66",
        "outputId": "ae57e26e-b421-4eb5-cbad-353d1ddc69a0"
      },
      "outputs": [
        {
          "name": "stdout",
          "output_type": "stream",
          "text": [
            "['shivam ', 'shivani']\n"
          ]
        }
      ],
      "source": [
        "x = re.findall(\"shi....\", s1)\n",
        "print(x)"
      ]
    },
    {
      "cell_type": "code",
      "execution_count": null,
      "id": "e8cfe2d3",
      "metadata": {
        "id": "e8cfe2d3"
      },
      "outputs": [],
      "source": []
    },
    {
      "cell_type": "markdown",
      "id": "e2e855a9",
      "metadata": {
        "id": "e2e855a9"
      },
      "source": [
        "#### 2– (^) starts with\n",
        "*It checks whether the string starts with the given pattern or not.*"
      ]
    },
    {
      "cell_type": "code",
      "execution_count": null,
      "id": "88d2f10e",
      "metadata": {
        "id": "88d2f10e"
      },
      "outputs": [],
      "source": [
        "s2 = \"Data Science Program will be launched in coming days\""
      ]
    },
    {
      "cell_type": "code",
      "execution_count": null,
      "id": "8ad11705",
      "metadata": {
        "id": "8ad11705",
        "outputId": "31b7171d-936e-4233-9590-695ad9da84e2"
      },
      "outputs": [
        {
          "name": "stdout",
          "output_type": "stream",
          "text": [
            "['Data']\n"
          ]
        }
      ],
      "source": [
        "x = re.findall(\"^Data\", s2)\n",
        "print(x)"
      ]
    },
    {
      "cell_type": "markdown",
      "id": "5fdc170a",
      "metadata": {
        "id": "5fdc170a"
      },
      "source": [
        "#### 3- ($) ends with\n",
        "*It checks whether the string ends with the given pattern or not.*"
      ]
    },
    {
      "cell_type": "code",
      "execution_count": null,
      "id": "a60c051b",
      "metadata": {
        "id": "a60c051b"
      },
      "outputs": [],
      "source": [
        "s3 = \"Data Science Program\""
      ]
    },
    {
      "cell_type": "code",
      "execution_count": null,
      "id": "8b0929c6",
      "metadata": {
        "id": "8b0929c6",
        "outputId": "83195efb-fab4-4116-c8ff-cdbd386f92e8"
      },
      "outputs": [
        {
          "name": "stdout",
          "output_type": "stream",
          "text": [
            "['Program']\n"
          ]
        }
      ],
      "source": [
        "x = re.findall(\"Program$\", s3)\n",
        "print(x)"
      ]
    },
    {
      "cell_type": "markdown",
      "id": "d58f3f5d",
      "metadata": {
        "id": "d58f3f5d"
      },
      "source": [
        "#### 4- (*) matches for zero or more occurrences of the pattern to the left of it"
      ]
    },
    {
      "cell_type": "code",
      "execution_count": null,
      "id": "30d4f3c6",
      "metadata": {
        "id": "30d4f3c6"
      },
      "outputs": [],
      "source": [
        "s4 = \"easy easssy eay ey easssssssy\""
      ]
    },
    {
      "cell_type": "code",
      "execution_count": null,
      "id": "55ef484c",
      "metadata": {
        "id": "55ef484c",
        "outputId": "3016b433-151d-478b-8291-a8c6a30338a6"
      },
      "outputs": [
        {
          "name": "stdout",
          "output_type": "stream",
          "text": [
            "['easy', 'easssy', 'eay', 'easssssssy']\n"
          ]
        }
      ],
      "source": [
        "x = re.findall('eas*y', s4)  #the word should starts with 'ea' followed by 's' and ending with 'y'.\n",
        "print(x)"
      ]
    },
    {
      "cell_type": "markdown",
      "id": "2fb2a556",
      "metadata": {
        "id": "2fb2a556"
      },
      "source": [
        "#### 5- (+) matches one or more occurrences of the pattern to the left of it\n"
      ]
    },
    {
      "cell_type": "code",
      "execution_count": null,
      "id": "e9953db1",
      "metadata": {
        "id": "e9953db1"
      },
      "outputs": [],
      "source": [
        "s4 = \"easy easssy eay ey\""
      ]
    },
    {
      "cell_type": "code",
      "execution_count": null,
      "id": "140d9d82",
      "metadata": {
        "id": "140d9d82",
        "outputId": "7506ba87-76f7-4e81-a9e6-1b00af2344a1"
      },
      "outputs": [
        {
          "name": "stdout",
          "output_type": "stream",
          "text": [
            "['easy', 'easssy']\n"
          ]
        }
      ],
      "source": [
        "x = re.findall('eas+y', s4)\n",
        "print(x)"
      ]
    },
    {
      "cell_type": "markdown",
      "id": "ed374fd4",
      "metadata": {
        "id": "ed374fd4"
      },
      "source": [
        "#### 6- (?) matches zero or one occurrence of the pattern left to it."
      ]
    },
    {
      "cell_type": "code",
      "execution_count": null,
      "id": "23d41d37",
      "metadata": {
        "id": "23d41d37"
      },
      "outputs": [],
      "source": [
        "s5 = \"easy easssy eay ey\""
      ]
    },
    {
      "cell_type": "code",
      "execution_count": null,
      "id": "565c88db",
      "metadata": {
        "id": "565c88db",
        "outputId": "7b483c5a-a814-4781-a48f-ce8d60e8912d"
      },
      "outputs": [
        {
          "name": "stdout",
          "output_type": "stream",
          "text": [
            "['easy', 'eay']\n"
          ]
        }
      ],
      "source": [
        "x = re.findall('eas?y', s4)\n",
        "print(x)"
      ]
    },
    {
      "cell_type": "markdown",
      "id": "1e8eaa37",
      "metadata": {
        "id": "1e8eaa37"
      },
      "source": [
        "#### 7- (|) either or"
      ]
    },
    {
      "cell_type": "code",
      "execution_count": null,
      "id": "5117412b",
      "metadata": {
        "id": "5117412b"
      },
      "outputs": [],
      "source": [
        "sttr = 'LetsUpgrad is the largest Ed-Tech Platform in India'"
      ]
    },
    {
      "cell_type": "code",
      "execution_count": null,
      "id": "21bffcd5",
      "metadata": {
        "id": "21bffcd5"
      },
      "outputs": [],
      "source": [
        "x = re.findall(\"LetUpgrad|US\", sttr)"
      ]
    },
    {
      "cell_type": "code",
      "execution_count": null,
      "id": "b20d5da4",
      "metadata": {
        "id": "b20d5da4",
        "outputId": "fba76174-0d09-41d7-a0ab-1dbf1bdadcd3"
      },
      "outputs": [
        {
          "data": {
            "text/plain": [
              "[]"
            ]
          },
          "execution_count": 79,
          "metadata": {},
          "output_type": "execute_result"
        }
      ],
      "source": [
        "x"
      ]
    },
    {
      "cell_type": "markdown",
      "id": "347ffe7d",
      "metadata": {
        "id": "347ffe7d"
      },
      "source": [
        "### Examples and Use Cases in Regular Expressions"
      ]
    },
    {
      "cell_type": "markdown",
      "id": "f4b358e7",
      "metadata": {
        "id": "f4b358e7"
      },
      "source": [
        "**1. Extracting the phone number**"
      ]
    },
    {
      "cell_type": "code",
      "execution_count": null,
      "id": "bf26deff",
      "metadata": {
        "id": "bf26deff",
        "outputId": "e4eb3e46-0dc8-4608-d414-158b21076f3a"
      },
      "outputs": [
        {
          "name": "stdout",
          "output_type": "stream",
          "text": [
            "It is verified\n"
          ]
        }
      ],
      "source": [
        "phn = 'My contact number is 222-446-7880 and my friend contact number is 879-354-15235'\n",
        "\n",
        "if re.search(\"\\d{3}-\\d{3}-\\d{4}\", phn):\n",
        "    print(\"It is verified\")\n",
        "else:\n",
        "    print(\"Incorrect Number\")"
      ]
    },
    {
      "cell_type": "code",
      "execution_count": null,
      "id": "3621a935",
      "metadata": {
        "id": "3621a935",
        "outputId": "917a4d3e-a8ab-475c-a56d-f2014841af0c"
      },
      "outputs": [
        {
          "data": {
            "text/plain": [
              "['222-446-7880', '879-354-1523']"
            ]
          },
          "execution_count": 40,
          "metadata": {},
          "output_type": "execute_result"
        }
      ],
      "source": [
        "re.findall(\"\\d{3}-\\d{3}-\\d{4}\", phn)"
      ]
    },
    {
      "cell_type": "code",
      "execution_count": null,
      "id": "cf6e7c96",
      "metadata": {
        "id": "cf6e7c96"
      },
      "outputs": [],
      "source": []
    },
    {
      "cell_type": "markdown",
      "id": "23538e07",
      "metadata": {
        "id": "23538e07"
      },
      "source": [
        "**2. Validating Email Addresses**"
      ]
    },
    {
      "cell_type": "code",
      "execution_count": null,
      "id": "5bc4d3be",
      "metadata": {
        "id": "5bc4d3be"
      },
      "outputs": [],
      "source": [
        "ids = 'Shivam@gmail.com abhijit45@gmail.com tanya78@yahoo.com shivam@.com'\n",
        "\n",
        "r2 = re.findall('[\\w._%]{0,20}@[\\w-].[A-Za-z]{2,3}', ids)"
      ]
    },
    {
      "cell_type": "code",
      "execution_count": null,
      "id": "49ab4958",
      "metadata": {
        "id": "49ab4958",
        "outputId": "5548769b-b776-4f29-be95-a7d4ed2fab4a"
      },
      "outputs": [
        {
          "data": {
            "text/plain": [
              "['Shivam@gmail', 'abhijit45@gmail', 'tanya78@yahoo']"
            ]
          },
          "execution_count": 9,
          "metadata": {},
          "output_type": "execute_result"
        }
      ],
      "source": [
        "r2"
      ]
    },
    {
      "cell_type": "markdown",
      "id": "64dccd0b",
      "metadata": {
        "id": "64dccd0b"
      },
      "source": [
        "**3. Extracting Dates & Time**"
      ]
    },
    {
      "cell_type": "code",
      "execution_count": null,
      "id": "ce4d5c47",
      "metadata": {
        "id": "ce4d5c47",
        "outputId": "1f724134-ee9d-438a-9b43-bab49a144463"
      },
      "outputs": [
        {
          "data": {
            "text/plain": [
              "['23-07-1997']"
            ]
          },
          "execution_count": 10,
          "metadata": {},
          "output_type": "execute_result"
        }
      ],
      "source": [
        "date = 'My birth date is on 23-07-1997'\n",
        "\n",
        "re.findall(\"\\d{2}-\\d{2}-\\d{4}\", date)"
      ]
    },
    {
      "cell_type": "markdown",
      "id": "025bbb2b",
      "metadata": {
        "id": "025bbb2b"
      },
      "source": [
        "**4. Cleaning Text Data**"
      ]
    },
    {
      "cell_type": "code",
      "execution_count": null,
      "id": "48596a59",
      "metadata": {
        "id": "48596a59"
      },
      "outputs": [],
      "source": [
        "inp = \"Hey, Are you excited??, After a 2 days, we will be in Shimla for 7 days!!!\""
      ]
    },
    {
      "cell_type": "code",
      "execution_count": null,
      "id": "21d08481",
      "metadata": {
        "id": "21d08481",
        "outputId": "26ebee82-1ad0-42fa-8a06-8480ccc85fcf"
      },
      "outputs": [
        {
          "data": {
            "text/plain": [
              "'Hey  Are you excited    After a   days  we will be in Shimla for   days   '"
            ]
          },
          "execution_count": 12,
          "metadata": {},
          "output_type": "execute_result"
        }
      ],
      "source": [
        "re.sub('[^a-zA-Z]', ' ', inp)"
      ]
    },
    {
      "cell_type": "markdown",
      "id": "88e6187a",
      "metadata": {
        "id": "88e6187a"
      },
      "source": [
        "### NLP Application with Regex\n",
        "#### Tokenization"
      ]
    },
    {
      "cell_type": "code",
      "execution_count": null,
      "id": "4f886ab5",
      "metadata": {
        "id": "4f886ab5"
      },
      "outputs": [],
      "source": [
        "text = 'Walking, Talking, and Coding are interesting activities!!'"
      ]
    },
    {
      "cell_type": "code",
      "execution_count": null,
      "id": "62edd765",
      "metadata": {
        "id": "62edd765",
        "outputId": "fb6bad8b-a080-4966-a268-6d8b4e833cf7"
      },
      "outputs": [
        {
          "name": "stdout",
          "output_type": "stream",
          "text": [
            "['Walking', 'Talking', 'Coding', 'interesting']\n"
          ]
        }
      ],
      "source": [
        "x = re.findall(r'\\b\\w+ing\\b', text)\n",
        "print(x)"
      ]
    },
    {
      "cell_type": "code",
      "execution_count": null,
      "id": "f5b83ccd",
      "metadata": {
        "id": "f5b83ccd",
        "outputId": "11097e5a-9b53-40c2-980e-db654cabeabc"
      },
      "outputs": [
        {
          "name": "stdout",
          "output_type": "stream",
          "text": [
            "['Walking,', 'Talking,', 'and', 'Coding', 'are', 'interesting', 'activities!!']\n"
          ]
        }
      ],
      "source": [
        "tokens = re.split(r'\\s+', text)\n",
        "print(tokens)"
      ]
    },
    {
      "cell_type": "code",
      "execution_count": null,
      "id": "de0b9ff1",
      "metadata": {
        "id": "de0b9ff1",
        "outputId": "a9d2d6f2-b192-4b74-a872-71281c7492b8"
      },
      "outputs": [
        {
          "data": {
            "text/plain": [
              "'Coding'"
            ]
          },
          "execution_count": 18,
          "metadata": {},
          "output_type": "execute_result"
        }
      ],
      "source": [
        "tokens[3]"
      ]
    },
    {
      "cell_type": "markdown",
      "id": "a4f84cfa",
      "metadata": {
        "id": "a4f84cfa"
      },
      "source": [
        "#### Remove the sepecial chracters and punctuation"
      ]
    },
    {
      "cell_type": "code",
      "execution_count": null,
      "id": "e25efff9",
      "metadata": {
        "id": "e25efff9",
        "outputId": "4908cca2-96ae-4a3f-aa3b-e908b0e027b0"
      },
      "outputs": [
        {
          "data": {
            "text/plain": [
              "'Walking Talking and Coding are interesting activities'"
            ]
          },
          "execution_count": 17,
          "metadata": {},
          "output_type": "execute_result"
        }
      ],
      "source": [
        "re.sub(r'[^\\w\\s]', '', text)"
      ]
    },
    {
      "cell_type": "code",
      "execution_count": null,
      "id": "0e8a2ccb",
      "metadata": {
        "id": "0e8a2ccb"
      },
      "outputs": [],
      "source": []
    },
    {
      "cell_type": "markdown",
      "id": "3517f7ba",
      "metadata": {
        "id": "3517f7ba"
      },
      "source": [
        "### ***Q. Write a regular expression that matches a string where '45' occurs one or more times followed by the occurrence of '37' one or more times.***"
      ]
    },
    {
      "cell_type": "code",
      "execution_count": null,
      "id": "724df595",
      "metadata": {
        "id": "724df595"
      },
      "outputs": [],
      "source": [
        "sample = ['4537', '45453737', '454545453737', '45', '37', '45537', '445537']"
      ]
    },
    {
      "cell_type": "code",
      "execution_count": null,
      "id": "5ec5ed77",
      "metadata": {
        "id": "5ec5ed77",
        "outputId": "a9dbdf77-bcb1-4498-b38d-73869450fc8f"
      },
      "outputs": [
        {
          "name": "stdout",
          "output_type": "stream",
          "text": [
            "True\n",
            "True\n",
            "True\n",
            "False\n",
            "False\n",
            "False\n",
            "False\n"
          ]
        }
      ],
      "source": [
        "pattern = '(45)+(37)+'\n",
        "\n",
        "for i in sample:\n",
        "    r = re.search(pattern, i)\n",
        "    if r!= None:\n",
        "        print(True)\n",
        "    else:\n",
        "        print(False)"
      ]
    },
    {
      "cell_type": "code",
      "execution_count": null,
      "id": "58577be7",
      "metadata": {
        "id": "58577be7"
      },
      "outputs": [],
      "source": []
    },
    {
      "cell_type": "markdown",
      "id": "dce2c178",
      "metadata": {
        "id": "dce2c178"
      },
      "source": [
        "### Few more examples"
      ]
    },
    {
      "cell_type": "markdown",
      "id": "a5a9bbc4",
      "metadata": {
        "id": "a5a9bbc4"
      },
      "source": [
        "#### Using re.match()\n",
        "\n",
        "The match function is used to match the RegEx pattern to string with optional flag. Here, in this \"w+\" and \"\\W\" will match the words starting from \"i\" and thereafter ,anything which is not started with \"i\" is not identified. For checking match for each element in the list or string, we run the for loop."
      ]
    },
    {
      "cell_type": "code",
      "execution_count": null,
      "id": "259f4510",
      "metadata": {
        "id": "259f4510",
        "outputId": "18d7bcd0-7864-460b-f320-50108cc502df"
      },
      "outputs": [
        {
          "name": "stdout",
          "output_type": "stream",
          "text": [
            "('icecream', 'images')\n"
          ]
        }
      ],
      "source": [
        "li = ['icecream images', 'inner peace', 'shivam singh']\n",
        "\n",
        "for i in li:\n",
        "    q = re.match(\"(i\\w+)\\W(i\\w+)\", i)\n",
        "\n",
        "    if q:\n",
        "        print(q.groups())"
      ]
    },
    {
      "cell_type": "markdown",
      "id": "e4812619",
      "metadata": {
        "id": "e4812619"
      },
      "source": [
        "#### Finding Pattern in the text(re.search())\n",
        "\n",
        "A RegEx is commonly used to search for a pattern in the text. This method takes a RegEx pattern and a string and searches that pattern with the string.\n",
        "\n",
        "For using re.search() function, you need to import re first. The search() function takes the \"pattern\" and \"text\" to scan from our given string and returns the match object when the pattern found or else not match."
      ]
    },
    {
      "cell_type": "code",
      "execution_count": null,
      "id": "936f5b99",
      "metadata": {
        "id": "936f5b99",
        "outputId": "0ea62d67-55ba-4815-f86a-5b5c1d094f2f"
      },
      "outputs": [
        {
          "name": "stdout",
          "output_type": "stream",
          "text": [
            "Incorrect Number\n"
          ]
        }
      ],
      "source": [
        "phn = 'My contact number is 242-449-7890'\n",
        "\n",
        "if re.search(\"\\d{3}-\\d{3}-\\d{4}\", phn):\n",
        "    print(\"It is verified\")\n",
        "else:\n",
        "    print(\"Incorrect Number\")"
      ]
    },
    {
      "cell_type": "code",
      "execution_count": null,
      "id": "e6b3cb51",
      "metadata": {
        "id": "e6b3cb51"
      },
      "outputs": [],
      "source": []
    },
    {
      "cell_type": "markdown",
      "id": "f82d0392",
      "metadata": {
        "id": "f82d0392"
      },
      "source": [
        "#### Using re.findall() for text\n",
        "\n",
        "We use re.findall() module is when you wnat to iterate over the lines of the file, it'll do like list all the matches in one go. Here in a example, we would like to fetch email address from the list and we want to fetch all emails from the list, we use re.findall() method."
      ]
    },
    {
      "cell_type": "code",
      "execution_count": null,
      "id": "df554ca1",
      "metadata": {
        "id": "df554ca1"
      },
      "outputs": [],
      "source": [
        "email = \"shivam96@gmail.com shivani@.com abhinav67@yahoo.com\""
      ]
    },
    {
      "cell_type": "code",
      "execution_count": null,
      "id": "6117c892",
      "metadata": {
        "id": "6117c892"
      },
      "outputs": [],
      "source": [
        "p = re.findall(\"[\\w._%]{0,20}@[\\w-].[A-Za-z]{2,3}\", email)"
      ]
    },
    {
      "cell_type": "code",
      "execution_count": null,
      "id": "387bb6cd",
      "metadata": {
        "id": "387bb6cd",
        "outputId": "7566cd9c-f4b0-46c5-f3f7-9583af942a50"
      },
      "outputs": [
        {
          "data": {
            "text/plain": [
              "['shivam96@gmail', 'abhinav67@yahoo']"
            ]
          },
          "execution_count": 87,
          "metadata": {},
          "output_type": "execute_result"
        }
      ],
      "source": [
        "p"
      ]
    },
    {
      "cell_type": "code",
      "execution_count": null,
      "id": "c5db564c",
      "metadata": {
        "id": "c5db564c"
      },
      "outputs": [],
      "source": [
        "k = 'Shivam@upgrad.com abhijit45@gmail.com tanya78@yahoo.com'"
      ]
    },
    {
      "cell_type": "code",
      "execution_count": null,
      "id": "4a9c9ba7",
      "metadata": {
        "id": "4a9c9ba7"
      },
      "outputs": [],
      "source": [
        "r2 = re.findall(r'[\\w\\.-]+@[\\w\\.-]+', k)"
      ]
    },
    {
      "cell_type": "code",
      "execution_count": null,
      "id": "4bb0bd88",
      "metadata": {
        "id": "4bb0bd88",
        "outputId": "1c822f8b-ac95-42a3-d5c9-90a4bcf9d8cd"
      },
      "outputs": [
        {
          "data": {
            "text/plain": [
              "['Shivam@upgrad.com', 'abhijit45@gmail.com', 'tanya78@yahoo.com']"
            ]
          },
          "execution_count": 67,
          "metadata": {},
          "output_type": "execute_result"
        }
      ],
      "source": [
        "r2"
      ]
    },
    {
      "cell_type": "markdown",
      "id": "7d72c09d",
      "metadata": {
        "id": "7d72c09d"
      },
      "source": [
        "### Greedy vs Non Greedy quantifiers\n",
        "\n",
        "#### Greedy Match –\n",
        "*A greedy match in regular expression tries to match as many characters as possible.*\n",
        "\n",
        "*For example [0-9]+ will try to match as many digits as possible. It gets never enough of it. It’s too greedy.*"
      ]
    },
    {
      "cell_type": "code",
      "execution_count": null,
      "id": "ddf9c7ba",
      "metadata": {
        "id": "ddf9c7ba",
        "outputId": "96f0eba9-f665-4dc5-c8ef-92e6ec641638"
      },
      "outputs": [
        {
          "data": {
            "text/plain": [
              "['12345678910']"
            ]
          },
          "execution_count": 10,
          "metadata": {},
          "output_type": "execute_result"
        }
      ],
      "source": [
        "import re\n",
        "re.findall('[0-9]+', '12345678910')"
      ]
    },
    {
      "cell_type": "code",
      "execution_count": null,
      "id": "59ea9e67",
      "metadata": {
        "id": "59ea9e67",
        "outputId": "8e03c06d-7bef-4b5c-c7e3-259379a9ce5d"
      },
      "outputs": [
        {
          "data": {
            "text/plain": [
              "['12345678910', '']"
            ]
          },
          "execution_count": 11,
          "metadata": {},
          "output_type": "execute_result"
        }
      ],
      "source": [
        "# zero or more occurrences\n",
        "re.findall('[0-9]*', '12345678910')"
      ]
    },
    {
      "cell_type": "code",
      "execution_count": null,
      "id": "4f53082a",
      "metadata": {
        "id": "4f53082a",
        "outputId": "7a58c8c9-fd35-4f68-c701-6197f78bc372"
      },
      "outputs": [
        {
          "data": {
            "text/plain": [
              "['1', '2', '3', '4', '5', '6', '7', '8', '9', '1', '0']"
            ]
          },
          "execution_count": 12,
          "metadata": {},
          "output_type": "execute_result"
        }
      ],
      "source": [
        "# one or more occurrences\n",
        "re.findall('[0-9]+?', '12345678910')"
      ]
    },
    {
      "cell_type": "code",
      "execution_count": null,
      "id": "38e54f74",
      "metadata": {
        "id": "38e54f74",
        "outputId": "6d57e8d5-2d11-4cef-cd60-6e20b66343b5"
      },
      "outputs": [
        {
          "data": {
            "text/plain": [
              "['1', '2', '3', '4', '5', '6', '7', '8', '9', '1', '0', '']"
            ]
          },
          "execution_count": 5,
          "metadata": {},
          "output_type": "execute_result"
        }
      ],
      "source": [
        "# zero or one occurrences\n",
        "re.findall('[0-9]?', '12345678910')"
      ]
    },
    {
      "cell_type": "code",
      "execution_count": null,
      "id": "8bfd9aaf",
      "metadata": {
        "id": "8bfd9aaf",
        "outputId": "ee150e79-22ba-4922-a953-e2f265220edf"
      },
      "outputs": [
        {
          "data": {
            "text/plain": [
              "['12345', '67891']"
            ]
          },
          "execution_count": 6,
          "metadata": {},
          "output_type": "execute_result"
        }
      ],
      "source": [
        "# exactly 5 occurrences\n",
        "re.findall('[0-9]{5}', '12345678910')"
      ]
    },
    {
      "cell_type": "code",
      "execution_count": null,
      "id": "af9a1df5",
      "metadata": {
        "id": "af9a1df5",
        "outputId": "1a0eab03-58f9-4ad4-c27c-0ddb3141a062"
      },
      "outputs": [
        {
          "data": {
            "text/plain": [
              "['12345', '67891']"
            ]
          },
          "execution_count": 7,
          "metadata": {},
          "output_type": "execute_result"
        }
      ],
      "source": [
        "# at least 2 but not greater than 5\n",
        "re.findall('[0-9]{2,5}', '12345678910')"
      ]
    },
    {
      "cell_type": "markdown",
      "id": "547a5944",
      "metadata": {
        "id": "547a5944"
      },
      "source": [
        "#### Non Greedy Match –\n",
        "A Non-Greedy match tries match as few characters as possible."
      ]
    },
    {
      "cell_type": "code",
      "execution_count": null,
      "id": "4f002bab",
      "metadata": {
        "id": "4f002bab",
        "outputId": "a553420d-cfb3-4119-e438-3398941396a9"
      },
      "outputs": [
        {
          "data": {
            "text/plain": [
              "['12345678910', '']"
            ]
          },
          "execution_count": 8,
          "metadata": {},
          "output_type": "execute_result"
        }
      ],
      "source": [
        "re.findall('[0-9]*', '12345678910')"
      ]
    },
    {
      "cell_type": "code",
      "execution_count": null,
      "id": "af6add3a",
      "metadata": {
        "id": "af6add3a",
        "outputId": "f712bc86-ae7c-4106-c4df-4cdf70d2eb13"
      },
      "outputs": [
        {
          "data": {
            "text/plain": [
              "['',\n",
              " '1',\n",
              " '',\n",
              " '2',\n",
              " '',\n",
              " '3',\n",
              " '',\n",
              " '4',\n",
              " '',\n",
              " '5',\n",
              " '',\n",
              " '6',\n",
              " '',\n",
              " '7',\n",
              " '',\n",
              " '8',\n",
              " '',\n",
              " '9',\n",
              " '',\n",
              " '1',\n",
              " '',\n",
              " '0',\n",
              " '']"
            ]
          },
          "execution_count": 9,
          "metadata": {},
          "output_type": "execute_result"
        }
      ],
      "source": [
        "re.findall('[0-9]*?', '12345678910')"
      ]
    },
    {
      "cell_type": "code",
      "execution_count": null,
      "id": "8203908e",
      "metadata": {
        "id": "8203908e"
      },
      "outputs": [],
      "source": []
    }
  ],
  "metadata": {
    "kernelspec": {
      "display_name": "Python 3 (ipykernel)",
      "language": "python",
      "name": "python3"
    },
    "language_info": {
      "codemirror_mode": {
        "name": "ipython",
        "version": 3
      },
      "file_extension": ".py",
      "mimetype": "text/x-python",
      "name": "python",
      "nbconvert_exporter": "python",
      "pygments_lexer": "ipython3",
      "version": "3.10.9"
    },
    "colab": {
      "provenance": [],
      "include_colab_link": true
    }
  },
  "nbformat": 4,
  "nbformat_minor": 5
}